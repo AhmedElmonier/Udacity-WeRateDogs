{
 "cells": [
  {
   "cell_type": "markdown",
   "metadata": {},
   "source": [
    "### Wrangle WeRateDogs Data\n",
    "This document contains the code that was used to wrangle the data for the Wrangle and Analyze Data project. I've divided the document into three sections corresponding to a step in the data wrangling process as outlined in the lessons:\n",
    "\n",
    "* Gather\n",
    "* Assess\n",
    "* Clean"
   ]
  },
  {
   "cell_type": "markdown",
   "metadata": {},
   "source": [
    "#### Gather\n",
    "\n",
    "Here I begin the process of wrangling by gathering the required data. The only data that I didn't have to obtain elsewhere are the data contained in the file \"twitter-archive-enhanced.csv\" which was provided to me."
   ]
  },
  {
   "cell_type": "code",
   "execution_count": 1,
   "metadata": {},
   "outputs": [],
   "source": [
    "import pandas as pd\n",
    "import numpy as np\n",
    "import os\n",
    "import tweepy\n",
    "import json\n",
    "import requests\n",
    "\n",
    "#load twitter-archive-enhanced.csv into twitter_archive_df\n",
    "twitter_archive_df = pd.read_csv('twitter-archive-enhanced.csv')"
   ]
  },
  {
   "cell_type": "code",
   "execution_count": 2,
   "metadata": {},
   "outputs": [],
   "source": [
    "consumer_key = 'HIDDEN'\n",
    "consumer_secret = 'HIDDEN'\n",
    "access_token = 'HIDDEN'\n",
    "access_secret = 'HIDDEN'\n",
    "\n",
    "auth = tweepy.OAuthHandler(consumer_key, consumer_secret)\n",
    "auth.set_access_token(access_token, access_secret)\n",
    "\n",
    "api = tweepy.API(auth, wait_on_rate_limit=True, wait_on_rate_limit_notify=True)"
   ]
  },
  {
   "cell_type": "code",
   "execution_count": 3,
   "metadata": {},
   "outputs": [
    {
     "name": "stderr",
     "output_type": "stream",
     "text": [
      "Rate limit reached. Sleeping for: 469\n",
      "Rate limit reached. Sleeping for: 475\n"
     ]
    }
   ],
   "source": [
    "page_no_exist = []\n",
    "retweet_count_and_favorite_count = []\n",
    "\n",
    "with open('tweet_json.txt', mode=\"w\") as file:\n",
    "    for i in list(twitter_archive_df.tweet_id):\n",
    "        try:\n",
    "            tweet = api.get_status(str(i))\n",
    "            file.write(json.dumps(tweet._json))\n",
    "            retweet_count_and_favorite_count.append({\n",
    "                \"tweet_id\" : str(i),\n",
    "                \"retweet_count\" : tweet._json['retweet_count'],\n",
    "                \"favorite_count\" : tweet._json['favorite_count']\n",
    "            })\n",
    "        except:\n",
    "            page_no_exist.append(i)"
   ]
  },
  {
   "cell_type": "code",
   "execution_count": 4,
   "metadata": {},
   "outputs": [
    {
     "data": {
      "text/plain": [
       "(2331, 25)"
      ]
     },
     "execution_count": 4,
     "metadata": {},
     "output_type": "execute_result"
    }
   ],
   "source": [
    "len(retweet_count_and_favorite_count), len(page_no_exist)"
   ]
  },
  {
   "cell_type": "code",
   "execution_count": 5,
   "metadata": {},
   "outputs": [],
   "source": [
    "tweet_data_df = pd.DataFrame(retweet_count_and_favorite_count, columns=[\"tweet_id\",'retweet_count', 'favorite_count'])"
   ]
  },
  {
   "cell_type": "code",
   "execution_count": 6,
   "metadata": {},
   "outputs": [],
   "source": [
    "url = 'https://d17h27t6h515a5.cloudfront.net/topher/2017/August/599fd2ad_image-predictions/image-predictions.tsv'\n",
    "response = requests.get(url)\n",
    "\n",
    "with open ('image-predictions.tsv', mode='wb') as file:\n",
    "    file.write(response.content)\n",
    "    \n",
    "image_pred_df = pd.read_csv('image-predictions.tsv',sep=\"\\t\")"
   ]
  },
  {
   "cell_type": "markdown",
   "metadata": {},
   "source": [
    "The data has now been loaded into the following dataframes:\n",
    "\n",
    "twitter_archive_df: contains data about the archived WeRateDogs tweets.\\\n",
    "tweet_data_df: contains additional data about the WeRateDogs tweets gathered from Twitter.\\\n",
    "image_pred_df: contains the prediction results of a machine learning algorithm trained on a sample of the images from the tweets in the WeRateDogs archive."
   ]
  },
  {
   "cell_type": "markdown",
   "metadata": {},
   "source": [
    "#### Assess\n",
    "With the data in hand I can now assess the data for potential quality and structural issues starting with visual assessment.\n",
    "\n",
    "i will start with assecing the data one by one and clean it.\n",
    "\n",
    "#### Dataframe contents for visual assessment"
   ]
  },
  {
   "cell_type": "code",
   "execution_count": 7,
   "metadata": {
    "scrolled": true
   },
   "outputs": [
    {
     "data": {
      "text/html": [
       "<div>\n",
       "<style scoped>\n",
       "    .dataframe tbody tr th:only-of-type {\n",
       "        vertical-align: middle;\n",
       "    }\n",
       "\n",
       "    .dataframe tbody tr th {\n",
       "        vertical-align: top;\n",
       "    }\n",
       "\n",
       "    .dataframe thead th {\n",
       "        text-align: right;\n",
       "    }\n",
       "</style>\n",
       "<table border=\"1\" class=\"dataframe\">\n",
       "  <thead>\n",
       "    <tr style=\"text-align: right;\">\n",
       "      <th></th>\n",
       "      <th>tweet_id</th>\n",
       "      <th>jpg_url</th>\n",
       "      <th>img_num</th>\n",
       "      <th>p1</th>\n",
       "      <th>p1_conf</th>\n",
       "      <th>p1_dog</th>\n",
       "      <th>p2</th>\n",
       "      <th>p2_conf</th>\n",
       "      <th>p2_dog</th>\n",
       "      <th>p3</th>\n",
       "      <th>p3_conf</th>\n",
       "      <th>p3_dog</th>\n",
       "    </tr>\n",
       "  </thead>\n",
       "  <tbody>\n",
       "    <tr>\n",
       "      <th>971</th>\n",
       "      <td>706593038911545345</td>\n",
       "      <td>https://pbs.twimg.com/media/Cc5Snc7XIAAMidF.jpg</td>\n",
       "      <td>1</td>\n",
       "      <td>four-poster</td>\n",
       "      <td>0.696423</td>\n",
       "      <td>False</td>\n",
       "      <td>quilt</td>\n",
       "      <td>0.189312</td>\n",
       "      <td>False</td>\n",
       "      <td>pillow</td>\n",
       "      <td>0.029409</td>\n",
       "      <td>False</td>\n",
       "    </tr>\n",
       "    <tr>\n",
       "      <th>719</th>\n",
       "      <td>685906723014619143</td>\n",
       "      <td>https://pbs.twimg.com/media/CYTUhn7WkAEXocW.jpg</td>\n",
       "      <td>1</td>\n",
       "      <td>Yorkshire_terrier</td>\n",
       "      <td>0.414963</td>\n",
       "      <td>True</td>\n",
       "      <td>briard</td>\n",
       "      <td>0.063505</td>\n",
       "      <td>True</td>\n",
       "      <td>Pekinese</td>\n",
       "      <td>0.053682</td>\n",
       "      <td>True</td>\n",
       "    </tr>\n",
       "    <tr>\n",
       "      <th>808</th>\n",
       "      <td>692142790915014657</td>\n",
       "      <td>https://pbs.twimg.com/media/CZr8LvyXEAABJ9k.jpg</td>\n",
       "      <td>3</td>\n",
       "      <td>toy_poodle</td>\n",
       "      <td>0.670068</td>\n",
       "      <td>True</td>\n",
       "      <td>teddy</td>\n",
       "      <td>0.190898</td>\n",
       "      <td>False</td>\n",
       "      <td>miniature_poodle</td>\n",
       "      <td>0.032178</td>\n",
       "      <td>True</td>\n",
       "    </tr>\n",
       "    <tr>\n",
       "      <th>1672</th>\n",
       "      <td>813112105746448384</td>\n",
       "      <td>https://pbs.twimg.com/media/C0jBJZVWQAA2_-X.jpg</td>\n",
       "      <td>1</td>\n",
       "      <td>dingo</td>\n",
       "      <td>0.287369</td>\n",
       "      <td>False</td>\n",
       "      <td>Pembroke</td>\n",
       "      <td>0.140682</td>\n",
       "      <td>True</td>\n",
       "      <td>basenji</td>\n",
       "      <td>0.090819</td>\n",
       "      <td>True</td>\n",
       "    </tr>\n",
       "    <tr>\n",
       "      <th>676</th>\n",
       "      <td>683462770029932544</td>\n",
       "      <td>https://pbs.twimg.com/media/CXwlw9MWsAAc-JB.jpg</td>\n",
       "      <td>1</td>\n",
       "      <td>Italian_greyhound</td>\n",
       "      <td>0.399560</td>\n",
       "      <td>True</td>\n",
       "      <td>whippet</td>\n",
       "      <td>0.267153</td>\n",
       "      <td>True</td>\n",
       "      <td>German_short-haired_pointer</td>\n",
       "      <td>0.081319</td>\n",
       "      <td>True</td>\n",
       "    </tr>\n",
       "    <tr>\n",
       "      <th>1782</th>\n",
       "      <td>828770345708580865</td>\n",
       "      <td>https://pbs.twimg.com/media/C4BiOXOXAAAf6IS.jpg</td>\n",
       "      <td>1</td>\n",
       "      <td>seat_belt</td>\n",
       "      <td>0.765979</td>\n",
       "      <td>False</td>\n",
       "      <td>Chesapeake_Bay_retriever</td>\n",
       "      <td>0.033899</td>\n",
       "      <td>True</td>\n",
       "      <td>polecat</td>\n",
       "      <td>0.027252</td>\n",
       "      <td>False</td>\n",
       "    </tr>\n",
       "    <tr>\n",
       "      <th>1582</th>\n",
       "      <td>796759840936919040</td>\n",
       "      <td>https://pbs.twimg.com/media/Cw6o1JQXcAAtP78.jpg</td>\n",
       "      <td>1</td>\n",
       "      <td>American_Staffordshire_terrier</td>\n",
       "      <td>0.463996</td>\n",
       "      <td>True</td>\n",
       "      <td>Staffordshire_bullterrier</td>\n",
       "      <td>0.155566</td>\n",
       "      <td>True</td>\n",
       "      <td>Weimaraner</td>\n",
       "      <td>0.137587</td>\n",
       "      <td>True</td>\n",
       "    </tr>\n",
       "    <tr>\n",
       "      <th>1944</th>\n",
       "      <td>861769973181624320</td>\n",
       "      <td>https://pbs.twimg.com/media/CzG425nWgAAnP7P.jpg</td>\n",
       "      <td>2</td>\n",
       "      <td>Arabian_camel</td>\n",
       "      <td>0.366248</td>\n",
       "      <td>False</td>\n",
       "      <td>house_finch</td>\n",
       "      <td>0.209852</td>\n",
       "      <td>False</td>\n",
       "      <td>cocker_spaniel</td>\n",
       "      <td>0.046403</td>\n",
       "      <td>True</td>\n",
       "    </tr>\n",
       "    <tr>\n",
       "      <th>290</th>\n",
       "      <td>671166507850801152</td>\n",
       "      <td>https://pbs.twimg.com/media/CVB2TnWUYAA2pAU.jpg</td>\n",
       "      <td>1</td>\n",
       "      <td>refrigerator</td>\n",
       "      <td>0.829772</td>\n",
       "      <td>False</td>\n",
       "      <td>toilet_seat</td>\n",
       "      <td>0.030083</td>\n",
       "      <td>False</td>\n",
       "      <td>shower_curtain</td>\n",
       "      <td>0.015461</td>\n",
       "      <td>False</td>\n",
       "    </tr>\n",
       "    <tr>\n",
       "      <th>868</th>\n",
       "      <td>697596423848730625</td>\n",
       "      <td>https://pbs.twimg.com/media/Ca5cPrJXIAImHtD.jpg</td>\n",
       "      <td>1</td>\n",
       "      <td>Shetland_sheepdog</td>\n",
       "      <td>0.621668</td>\n",
       "      <td>True</td>\n",
       "      <td>collie</td>\n",
       "      <td>0.366578</td>\n",
       "      <td>True</td>\n",
       "      <td>Pembroke</td>\n",
       "      <td>0.007698</td>\n",
       "      <td>True</td>\n",
       "    </tr>\n",
       "    <tr>\n",
       "      <th>822</th>\n",
       "      <td>693109034023534592</td>\n",
       "      <td>https://pbs.twimg.com/ext_tw_video_thumb/69310...</td>\n",
       "      <td>1</td>\n",
       "      <td>cocker_spaniel</td>\n",
       "      <td>0.740013</td>\n",
       "      <td>True</td>\n",
       "      <td>Welsh_springer_spaniel</td>\n",
       "      <td>0.088739</td>\n",
       "      <td>True</td>\n",
       "      <td>golden_retriever</td>\n",
       "      <td>0.047470</td>\n",
       "      <td>True</td>\n",
       "    </tr>\n",
       "    <tr>\n",
       "      <th>1044</th>\n",
       "      <td>712717840512598017</td>\n",
       "      <td>https://pbs.twimg.com/media/CeQVF1eVIAAJaTv.jpg</td>\n",
       "      <td>1</td>\n",
       "      <td>Great_Pyrenees</td>\n",
       "      <td>0.732043</td>\n",
       "      <td>True</td>\n",
       "      <td>kuvasz</td>\n",
       "      <td>0.121375</td>\n",
       "      <td>True</td>\n",
       "      <td>Irish_wolfhound</td>\n",
       "      <td>0.049524</td>\n",
       "      <td>True</td>\n",
       "    </tr>\n",
       "    <tr>\n",
       "      <th>1371</th>\n",
       "      <td>762316489655476224</td>\n",
       "      <td>https://pbs.twimg.com/media/CpRKzZKWAAABGh7.jpg</td>\n",
       "      <td>1</td>\n",
       "      <td>African_grey</td>\n",
       "      <td>0.270468</td>\n",
       "      <td>False</td>\n",
       "      <td>Madagascar_cat</td>\n",
       "      <td>0.076187</td>\n",
       "      <td>False</td>\n",
       "      <td>television</td>\n",
       "      <td>0.033306</td>\n",
       "      <td>False</td>\n",
       "    </tr>\n",
       "    <tr>\n",
       "      <th>1565</th>\n",
       "      <td>793845145112371200</td>\n",
       "      <td>https://pbs.twimg.com/media/CwRN8H6WgAASe4X.jpg</td>\n",
       "      <td>1</td>\n",
       "      <td>Old_English_sheepdog</td>\n",
       "      <td>0.765277</td>\n",
       "      <td>True</td>\n",
       "      <td>Bedlington_terrier</td>\n",
       "      <td>0.112753</td>\n",
       "      <td>True</td>\n",
       "      <td>Kerry_blue_terrier</td>\n",
       "      <td>0.047662</td>\n",
       "      <td>True</td>\n",
       "    </tr>\n",
       "    <tr>\n",
       "      <th>1961</th>\n",
       "      <td>866450705531457537</td>\n",
       "      <td>https://pbs.twimg.com/media/DAZAUfBXcAAG_Nn.jpg</td>\n",
       "      <td>2</td>\n",
       "      <td>French_bulldog</td>\n",
       "      <td>0.905334</td>\n",
       "      <td>True</td>\n",
       "      <td>Boston_bull</td>\n",
       "      <td>0.078060</td>\n",
       "      <td>True</td>\n",
       "      <td>pug</td>\n",
       "      <td>0.001771</td>\n",
       "      <td>True</td>\n",
       "    </tr>\n",
       "  </tbody>\n",
       "</table>\n",
       "</div>"
      ],
      "text/plain": [
       "                tweet_id                                            jpg_url  \\\n",
       "971   706593038911545345    https://pbs.twimg.com/media/Cc5Snc7XIAAMidF.jpg   \n",
       "719   685906723014619143    https://pbs.twimg.com/media/CYTUhn7WkAEXocW.jpg   \n",
       "808   692142790915014657    https://pbs.twimg.com/media/CZr8LvyXEAABJ9k.jpg   \n",
       "1672  813112105746448384    https://pbs.twimg.com/media/C0jBJZVWQAA2_-X.jpg   \n",
       "676   683462770029932544    https://pbs.twimg.com/media/CXwlw9MWsAAc-JB.jpg   \n",
       "1782  828770345708580865    https://pbs.twimg.com/media/C4BiOXOXAAAf6IS.jpg   \n",
       "1582  796759840936919040    https://pbs.twimg.com/media/Cw6o1JQXcAAtP78.jpg   \n",
       "1944  861769973181624320    https://pbs.twimg.com/media/CzG425nWgAAnP7P.jpg   \n",
       "290   671166507850801152    https://pbs.twimg.com/media/CVB2TnWUYAA2pAU.jpg   \n",
       "868   697596423848730625    https://pbs.twimg.com/media/Ca5cPrJXIAImHtD.jpg   \n",
       "822   693109034023534592  https://pbs.twimg.com/ext_tw_video_thumb/69310...   \n",
       "1044  712717840512598017    https://pbs.twimg.com/media/CeQVF1eVIAAJaTv.jpg   \n",
       "1371  762316489655476224    https://pbs.twimg.com/media/CpRKzZKWAAABGh7.jpg   \n",
       "1565  793845145112371200    https://pbs.twimg.com/media/CwRN8H6WgAASe4X.jpg   \n",
       "1961  866450705531457537    https://pbs.twimg.com/media/DAZAUfBXcAAG_Nn.jpg   \n",
       "\n",
       "      img_num                              p1   p1_conf  p1_dog  \\\n",
       "971         1                     four-poster  0.696423   False   \n",
       "719         1               Yorkshire_terrier  0.414963    True   \n",
       "808         3                      toy_poodle  0.670068    True   \n",
       "1672        1                           dingo  0.287369   False   \n",
       "676         1               Italian_greyhound  0.399560    True   \n",
       "1782        1                       seat_belt  0.765979   False   \n",
       "1582        1  American_Staffordshire_terrier  0.463996    True   \n",
       "1944        2                   Arabian_camel  0.366248   False   \n",
       "290         1                    refrigerator  0.829772   False   \n",
       "868         1               Shetland_sheepdog  0.621668    True   \n",
       "822         1                  cocker_spaniel  0.740013    True   \n",
       "1044        1                  Great_Pyrenees  0.732043    True   \n",
       "1371        1                    African_grey  0.270468   False   \n",
       "1565        1            Old_English_sheepdog  0.765277    True   \n",
       "1961        2                  French_bulldog  0.905334    True   \n",
       "\n",
       "                             p2   p2_conf  p2_dog  \\\n",
       "971                       quilt  0.189312   False   \n",
       "719                      briard  0.063505    True   \n",
       "808                       teddy  0.190898   False   \n",
       "1672                   Pembroke  0.140682    True   \n",
       "676                     whippet  0.267153    True   \n",
       "1782   Chesapeake_Bay_retriever  0.033899    True   \n",
       "1582  Staffordshire_bullterrier  0.155566    True   \n",
       "1944                house_finch  0.209852   False   \n",
       "290                 toilet_seat  0.030083   False   \n",
       "868                      collie  0.366578    True   \n",
       "822      Welsh_springer_spaniel  0.088739    True   \n",
       "1044                     kuvasz  0.121375    True   \n",
       "1371             Madagascar_cat  0.076187   False   \n",
       "1565         Bedlington_terrier  0.112753    True   \n",
       "1961                Boston_bull  0.078060    True   \n",
       "\n",
       "                               p3   p3_conf  p3_dog  \n",
       "971                        pillow  0.029409   False  \n",
       "719                      Pekinese  0.053682    True  \n",
       "808              miniature_poodle  0.032178    True  \n",
       "1672                      basenji  0.090819    True  \n",
       "676   German_short-haired_pointer  0.081319    True  \n",
       "1782                      polecat  0.027252   False  \n",
       "1582                   Weimaraner  0.137587    True  \n",
       "1944               cocker_spaniel  0.046403    True  \n",
       "290                shower_curtain  0.015461   False  \n",
       "868                      Pembroke  0.007698    True  \n",
       "822              golden_retriever  0.047470    True  \n",
       "1044              Irish_wolfhound  0.049524    True  \n",
       "1371                   television  0.033306   False  \n",
       "1565           Kerry_blue_terrier  0.047662    True  \n",
       "1961                          pug  0.001771    True  "
      ]
     },
     "execution_count": 7,
     "metadata": {},
     "output_type": "execute_result"
    }
   ],
   "source": [
    "image_pred_df.sample(15)"
   ]
  },
  {
   "cell_type": "code",
   "execution_count": 8,
   "metadata": {
    "scrolled": false
   },
   "outputs": [
    {
     "data": {
      "text/html": [
       "<div>\n",
       "<style scoped>\n",
       "    .dataframe tbody tr th:only-of-type {\n",
       "        vertical-align: middle;\n",
       "    }\n",
       "\n",
       "    .dataframe tbody tr th {\n",
       "        vertical-align: top;\n",
       "    }\n",
       "\n",
       "    .dataframe thead th {\n",
       "        text-align: right;\n",
       "    }\n",
       "</style>\n",
       "<table border=\"1\" class=\"dataframe\">\n",
       "  <thead>\n",
       "    <tr style=\"text-align: right;\">\n",
       "      <th></th>\n",
       "      <th>tweet_id</th>\n",
       "      <th>in_reply_to_status_id</th>\n",
       "      <th>in_reply_to_user_id</th>\n",
       "      <th>timestamp</th>\n",
       "      <th>source</th>\n",
       "      <th>text</th>\n",
       "      <th>retweeted_status_id</th>\n",
       "      <th>retweeted_status_user_id</th>\n",
       "      <th>retweeted_status_timestamp</th>\n",
       "      <th>expanded_urls</th>\n",
       "      <th>rating_numerator</th>\n",
       "      <th>rating_denominator</th>\n",
       "      <th>name</th>\n",
       "      <th>doggo</th>\n",
       "      <th>floofer</th>\n",
       "      <th>pupper</th>\n",
       "      <th>puppo</th>\n",
       "    </tr>\n",
       "  </thead>\n",
       "  <tbody>\n",
       "    <tr>\n",
       "      <th>1643</th>\n",
       "      <td>683857920510050305</td>\n",
       "      <td>NaN</td>\n",
       "      <td>NaN</td>\n",
       "      <td>2016-01-04 03:50:08 +0000</td>\n",
       "      <td>&lt;a href=\"http://twitter.com/download/iphone\" r...</td>\n",
       "      <td>Meet Sadie. She fell asleep on the beach and h...</td>\n",
       "      <td>NaN</td>\n",
       "      <td>NaN</td>\n",
       "      <td>NaN</td>\n",
       "      <td>https://twitter.com/dog_rates/status/683857920...</td>\n",
       "      <td>10</td>\n",
       "      <td>10</td>\n",
       "      <td>Sadie</td>\n",
       "      <td>None</td>\n",
       "      <td>None</td>\n",
       "      <td>None</td>\n",
       "      <td>None</td>\n",
       "    </tr>\n",
       "    <tr>\n",
       "      <th>395</th>\n",
       "      <td>825535076884762624</td>\n",
       "      <td>NaN</td>\n",
       "      <td>NaN</td>\n",
       "      <td>2017-01-29 02:44:34 +0000</td>\n",
       "      <td>&lt;a href=\"http://twitter.com/download/iphone\" r...</td>\n",
       "      <td>Here's a very loving and accepting puppo. Appe...</td>\n",
       "      <td>NaN</td>\n",
       "      <td>NaN</td>\n",
       "      <td>NaN</td>\n",
       "      <td>https://twitter.com/dog_rates/status/825535076...</td>\n",
       "      <td>14</td>\n",
       "      <td>10</td>\n",
       "      <td>None</td>\n",
       "      <td>None</td>\n",
       "      <td>None</td>\n",
       "      <td>None</td>\n",
       "      <td>puppo</td>\n",
       "    </tr>\n",
       "    <tr>\n",
       "      <th>2165</th>\n",
       "      <td>669367896104181761</td>\n",
       "      <td>NaN</td>\n",
       "      <td>NaN</td>\n",
       "      <td>2015-11-25 04:11:57 +0000</td>\n",
       "      <td>&lt;a href=\"http://twitter.com/download/iphone\" r...</td>\n",
       "      <td>This is Chip. Chip's pretending to be choked. ...</td>\n",
       "      <td>NaN</td>\n",
       "      <td>NaN</td>\n",
       "      <td>NaN</td>\n",
       "      <td>https://twitter.com/dog_rates/status/669367896...</td>\n",
       "      <td>10</td>\n",
       "      <td>10</td>\n",
       "      <td>Chip</td>\n",
       "      <td>None</td>\n",
       "      <td>None</td>\n",
       "      <td>None</td>\n",
       "      <td>None</td>\n",
       "    </tr>\n",
       "    <tr>\n",
       "      <th>2053</th>\n",
       "      <td>671485057807351808</td>\n",
       "      <td>NaN</td>\n",
       "      <td>NaN</td>\n",
       "      <td>2015-12-01 00:24:48 +0000</td>\n",
       "      <td>&lt;a href=\"http://twitter.com/download/iphone\" r...</td>\n",
       "      <td>Meet Penelope. She is a white Macadamias Duode...</td>\n",
       "      <td>NaN</td>\n",
       "      <td>NaN</td>\n",
       "      <td>NaN</td>\n",
       "      <td>https://twitter.com/dog_rates/status/671485057...</td>\n",
       "      <td>11</td>\n",
       "      <td>10</td>\n",
       "      <td>Penelope</td>\n",
       "      <td>None</td>\n",
       "      <td>None</td>\n",
       "      <td>None</td>\n",
       "      <td>None</td>\n",
       "    </tr>\n",
       "    <tr>\n",
       "      <th>259</th>\n",
       "      <td>843235543001513987</td>\n",
       "      <td>NaN</td>\n",
       "      <td>NaN</td>\n",
       "      <td>2017-03-18 22:59:54 +0000</td>\n",
       "      <td>&lt;a href=\"http://twitter.com/download/iphone\" r...</td>\n",
       "      <td>This is Tycho. She just had new wheels install...</td>\n",
       "      <td>NaN</td>\n",
       "      <td>NaN</td>\n",
       "      <td>NaN</td>\n",
       "      <td>https://twitter.com/dog_rates/status/843235543...</td>\n",
       "      <td>13</td>\n",
       "      <td>10</td>\n",
       "      <td>Tycho</td>\n",
       "      <td>None</td>\n",
       "      <td>None</td>\n",
       "      <td>None</td>\n",
       "      <td>None</td>\n",
       "    </tr>\n",
       "    <tr>\n",
       "      <th>1836</th>\n",
       "      <td>676098748976615425</td>\n",
       "      <td>NaN</td>\n",
       "      <td>NaN</td>\n",
       "      <td>2015-12-13 17:57:57 +0000</td>\n",
       "      <td>&lt;a href=\"http://twitter.com/download/iphone\" r...</td>\n",
       "      <td>Extremely rare pup here. Very religious. Alway...</td>\n",
       "      <td>NaN</td>\n",
       "      <td>NaN</td>\n",
       "      <td>NaN</td>\n",
       "      <td>https://twitter.com/dog_rates/status/676098748...</td>\n",
       "      <td>3</td>\n",
       "      <td>10</td>\n",
       "      <td>None</td>\n",
       "      <td>None</td>\n",
       "      <td>None</td>\n",
       "      <td>None</td>\n",
       "      <td>None</td>\n",
       "    </tr>\n",
       "    <tr>\n",
       "      <th>2282</th>\n",
       "      <td>667211855547486208</td>\n",
       "      <td>NaN</td>\n",
       "      <td>NaN</td>\n",
       "      <td>2015-11-19 05:24:37 +0000</td>\n",
       "      <td>&lt;a href=\"http://twitter.com/download/iphone\" r...</td>\n",
       "      <td>This is Genevieve. She is a golden retriever c...</td>\n",
       "      <td>NaN</td>\n",
       "      <td>NaN</td>\n",
       "      <td>NaN</td>\n",
       "      <td>https://twitter.com/dog_rates/status/667211855...</td>\n",
       "      <td>9</td>\n",
       "      <td>10</td>\n",
       "      <td>Genevieve</td>\n",
       "      <td>None</td>\n",
       "      <td>None</td>\n",
       "      <td>None</td>\n",
       "      <td>None</td>\n",
       "    </tr>\n",
       "    <tr>\n",
       "      <th>1587</th>\n",
       "      <td>686749460672679938</td>\n",
       "      <td>NaN</td>\n",
       "      <td>NaN</td>\n",
       "      <td>2016-01-12 03:20:05 +0000</td>\n",
       "      <td>&lt;a href=\"http://twitter.com/download/iphone\" r...</td>\n",
       "      <td>Strange pup here. Easily manipulated. Rather i...</td>\n",
       "      <td>NaN</td>\n",
       "      <td>NaN</td>\n",
       "      <td>NaN</td>\n",
       "      <td>https://twitter.com/dog_rates/status/686749460...</td>\n",
       "      <td>8</td>\n",
       "      <td>10</td>\n",
       "      <td>None</td>\n",
       "      <td>None</td>\n",
       "      <td>None</td>\n",
       "      <td>None</td>\n",
       "      <td>None</td>\n",
       "    </tr>\n",
       "    <tr>\n",
       "      <th>2217</th>\n",
       "      <td>668528771708952576</td>\n",
       "      <td>NaN</td>\n",
       "      <td>NaN</td>\n",
       "      <td>2015-11-22 20:37:34 +0000</td>\n",
       "      <td>&lt;a href=\"http://twitter.com/download/iphone\" r...</td>\n",
       "      <td>This is Gòrdón. He enjoys his razberrita by po...</td>\n",
       "      <td>NaN</td>\n",
       "      <td>NaN</td>\n",
       "      <td>NaN</td>\n",
       "      <td>https://twitter.com/dog_rates/status/668528771...</td>\n",
       "      <td>12</td>\n",
       "      <td>10</td>\n",
       "      <td>Gòrdón</td>\n",
       "      <td>None</td>\n",
       "      <td>None</td>\n",
       "      <td>None</td>\n",
       "      <td>None</td>\n",
       "    </tr>\n",
       "    <tr>\n",
       "      <th>1075</th>\n",
       "      <td>739623569819336705</td>\n",
       "      <td>NaN</td>\n",
       "      <td>NaN</td>\n",
       "      <td>2016-06-06 01:02:55 +0000</td>\n",
       "      <td>&lt;a href=\"http://vine.co\" rel=\"nofollow\"&gt;Vine -...</td>\n",
       "      <td>Here's a doggo that don't need no human. 12/10...</td>\n",
       "      <td>NaN</td>\n",
       "      <td>NaN</td>\n",
       "      <td>NaN</td>\n",
       "      <td>https://vine.co/v/iY9Fr1I31U6</td>\n",
       "      <td>12</td>\n",
       "      <td>10</td>\n",
       "      <td>None</td>\n",
       "      <td>doggo</td>\n",
       "      <td>None</td>\n",
       "      <td>None</td>\n",
       "      <td>None</td>\n",
       "    </tr>\n",
       "    <tr>\n",
       "      <th>17</th>\n",
       "      <td>888804989199671297</td>\n",
       "      <td>NaN</td>\n",
       "      <td>NaN</td>\n",
       "      <td>2017-07-22 16:56:37 +0000</td>\n",
       "      <td>&lt;a href=\"http://twitter.com/download/iphone\" r...</td>\n",
       "      <td>This is Zeke. He has a new stick. Very proud o...</td>\n",
       "      <td>NaN</td>\n",
       "      <td>NaN</td>\n",
       "      <td>NaN</td>\n",
       "      <td>https://twitter.com/dog_rates/status/888804989...</td>\n",
       "      <td>13</td>\n",
       "      <td>10</td>\n",
       "      <td>Zeke</td>\n",
       "      <td>None</td>\n",
       "      <td>None</td>\n",
       "      <td>None</td>\n",
       "      <td>None</td>\n",
       "    </tr>\n",
       "    <tr>\n",
       "      <th>907</th>\n",
       "      <td>757741869644341248</td>\n",
       "      <td>NaN</td>\n",
       "      <td>NaN</td>\n",
       "      <td>2016-07-26 00:58:34 +0000</td>\n",
       "      <td>&lt;a href=\"http://twitter.com/download/iphone\" r...</td>\n",
       "      <td>This is Leonard. He hides in bushes to escape ...</td>\n",
       "      <td>NaN</td>\n",
       "      <td>NaN</td>\n",
       "      <td>NaN</td>\n",
       "      <td>https://twitter.com/dog_rates/status/757741869...</td>\n",
       "      <td>10</td>\n",
       "      <td>10</td>\n",
       "      <td>Leonard</td>\n",
       "      <td>None</td>\n",
       "      <td>None</td>\n",
       "      <td>None</td>\n",
       "      <td>None</td>\n",
       "    </tr>\n",
       "    <tr>\n",
       "      <th>1902</th>\n",
       "      <td>674644256330530816</td>\n",
       "      <td>NaN</td>\n",
       "      <td>NaN</td>\n",
       "      <td>2015-12-09 17:38:19 +0000</td>\n",
       "      <td>&lt;a href=\"http://twitter.com/download/iphone\" r...</td>\n",
       "      <td>When you see sophomores in high school driving...</td>\n",
       "      <td>NaN</td>\n",
       "      <td>NaN</td>\n",
       "      <td>NaN</td>\n",
       "      <td>https://twitter.com/dog_rates/status/674644256...</td>\n",
       "      <td>11</td>\n",
       "      <td>10</td>\n",
       "      <td>None</td>\n",
       "      <td>None</td>\n",
       "      <td>None</td>\n",
       "      <td>None</td>\n",
       "      <td>None</td>\n",
       "    </tr>\n",
       "    <tr>\n",
       "      <th>530</th>\n",
       "      <td>808134635716833280</td>\n",
       "      <td>NaN</td>\n",
       "      <td>NaN</td>\n",
       "      <td>2016-12-12 02:21:26 +0000</td>\n",
       "      <td>&lt;a href=\"http://twitter.com/download/iphone\" r...</td>\n",
       "      <td>RT @dog_rates: This is Milo. I would do terrib...</td>\n",
       "      <td>8.011679e+17</td>\n",
       "      <td>4.196984e+09</td>\n",
       "      <td>2016-11-22 20:58:07 +0000</td>\n",
       "      <td>https://twitter.com/dog_rates/status/801167903...</td>\n",
       "      <td>13</td>\n",
       "      <td>10</td>\n",
       "      <td>Milo</td>\n",
       "      <td>None</td>\n",
       "      <td>None</td>\n",
       "      <td>None</td>\n",
       "      <td>None</td>\n",
       "    </tr>\n",
       "    <tr>\n",
       "      <th>561</th>\n",
       "      <td>802624713319034886</td>\n",
       "      <td>NaN</td>\n",
       "      <td>NaN</td>\n",
       "      <td>2016-11-26 21:26:58 +0000</td>\n",
       "      <td>&lt;a href=\"http://twitter.com/download/iphone\" r...</td>\n",
       "      <td>RT @dog_rates: \"Yep... just as I suspected. Yo...</td>\n",
       "      <td>7.776842e+17</td>\n",
       "      <td>4.196984e+09</td>\n",
       "      <td>2016-09-19 01:42:24 +0000</td>\n",
       "      <td>https://twitter.com/dog_rates/status/777684233...</td>\n",
       "      <td>12</td>\n",
       "      <td>10</td>\n",
       "      <td>None</td>\n",
       "      <td>None</td>\n",
       "      <td>None</td>\n",
       "      <td>None</td>\n",
       "      <td>None</td>\n",
       "    </tr>\n",
       "  </tbody>\n",
       "</table>\n",
       "</div>"
      ],
      "text/plain": [
       "                tweet_id  in_reply_to_status_id  in_reply_to_user_id  \\\n",
       "1643  683857920510050305                    NaN                  NaN   \n",
       "395   825535076884762624                    NaN                  NaN   \n",
       "2165  669367896104181761                    NaN                  NaN   \n",
       "2053  671485057807351808                    NaN                  NaN   \n",
       "259   843235543001513987                    NaN                  NaN   \n",
       "1836  676098748976615425                    NaN                  NaN   \n",
       "2282  667211855547486208                    NaN                  NaN   \n",
       "1587  686749460672679938                    NaN                  NaN   \n",
       "2217  668528771708952576                    NaN                  NaN   \n",
       "1075  739623569819336705                    NaN                  NaN   \n",
       "17    888804989199671297                    NaN                  NaN   \n",
       "907   757741869644341248                    NaN                  NaN   \n",
       "1902  674644256330530816                    NaN                  NaN   \n",
       "530   808134635716833280                    NaN                  NaN   \n",
       "561   802624713319034886                    NaN                  NaN   \n",
       "\n",
       "                      timestamp  \\\n",
       "1643  2016-01-04 03:50:08 +0000   \n",
       "395   2017-01-29 02:44:34 +0000   \n",
       "2165  2015-11-25 04:11:57 +0000   \n",
       "2053  2015-12-01 00:24:48 +0000   \n",
       "259   2017-03-18 22:59:54 +0000   \n",
       "1836  2015-12-13 17:57:57 +0000   \n",
       "2282  2015-11-19 05:24:37 +0000   \n",
       "1587  2016-01-12 03:20:05 +0000   \n",
       "2217  2015-11-22 20:37:34 +0000   \n",
       "1075  2016-06-06 01:02:55 +0000   \n",
       "17    2017-07-22 16:56:37 +0000   \n",
       "907   2016-07-26 00:58:34 +0000   \n",
       "1902  2015-12-09 17:38:19 +0000   \n",
       "530   2016-12-12 02:21:26 +0000   \n",
       "561   2016-11-26 21:26:58 +0000   \n",
       "\n",
       "                                                 source  \\\n",
       "1643  <a href=\"http://twitter.com/download/iphone\" r...   \n",
       "395   <a href=\"http://twitter.com/download/iphone\" r...   \n",
       "2165  <a href=\"http://twitter.com/download/iphone\" r...   \n",
       "2053  <a href=\"http://twitter.com/download/iphone\" r...   \n",
       "259   <a href=\"http://twitter.com/download/iphone\" r...   \n",
       "1836  <a href=\"http://twitter.com/download/iphone\" r...   \n",
       "2282  <a href=\"http://twitter.com/download/iphone\" r...   \n",
       "1587  <a href=\"http://twitter.com/download/iphone\" r...   \n",
       "2217  <a href=\"http://twitter.com/download/iphone\" r...   \n",
       "1075  <a href=\"http://vine.co\" rel=\"nofollow\">Vine -...   \n",
       "17    <a href=\"http://twitter.com/download/iphone\" r...   \n",
       "907   <a href=\"http://twitter.com/download/iphone\" r...   \n",
       "1902  <a href=\"http://twitter.com/download/iphone\" r...   \n",
       "530   <a href=\"http://twitter.com/download/iphone\" r...   \n",
       "561   <a href=\"http://twitter.com/download/iphone\" r...   \n",
       "\n",
       "                                                   text  retweeted_status_id  \\\n",
       "1643  Meet Sadie. She fell asleep on the beach and h...                  NaN   \n",
       "395   Here's a very loving and accepting puppo. Appe...                  NaN   \n",
       "2165  This is Chip. Chip's pretending to be choked. ...                  NaN   \n",
       "2053  Meet Penelope. She is a white Macadamias Duode...                  NaN   \n",
       "259   This is Tycho. She just had new wheels install...                  NaN   \n",
       "1836  Extremely rare pup here. Very religious. Alway...                  NaN   \n",
       "2282  This is Genevieve. She is a golden retriever c...                  NaN   \n",
       "1587  Strange pup here. Easily manipulated. Rather i...                  NaN   \n",
       "2217  This is Gòrdón. He enjoys his razberrita by po...                  NaN   \n",
       "1075  Here's a doggo that don't need no human. 12/10...                  NaN   \n",
       "17    This is Zeke. He has a new stick. Very proud o...                  NaN   \n",
       "907   This is Leonard. He hides in bushes to escape ...                  NaN   \n",
       "1902  When you see sophomores in high school driving...                  NaN   \n",
       "530   RT @dog_rates: This is Milo. I would do terrib...         8.011679e+17   \n",
       "561   RT @dog_rates: \"Yep... just as I suspected. Yo...         7.776842e+17   \n",
       "\n",
       "      retweeted_status_user_id retweeted_status_timestamp  \\\n",
       "1643                       NaN                        NaN   \n",
       "395                        NaN                        NaN   \n",
       "2165                       NaN                        NaN   \n",
       "2053                       NaN                        NaN   \n",
       "259                        NaN                        NaN   \n",
       "1836                       NaN                        NaN   \n",
       "2282                       NaN                        NaN   \n",
       "1587                       NaN                        NaN   \n",
       "2217                       NaN                        NaN   \n",
       "1075                       NaN                        NaN   \n",
       "17                         NaN                        NaN   \n",
       "907                        NaN                        NaN   \n",
       "1902                       NaN                        NaN   \n",
       "530               4.196984e+09  2016-11-22 20:58:07 +0000   \n",
       "561               4.196984e+09  2016-09-19 01:42:24 +0000   \n",
       "\n",
       "                                          expanded_urls  rating_numerator  \\\n",
       "1643  https://twitter.com/dog_rates/status/683857920...                10   \n",
       "395   https://twitter.com/dog_rates/status/825535076...                14   \n",
       "2165  https://twitter.com/dog_rates/status/669367896...                10   \n",
       "2053  https://twitter.com/dog_rates/status/671485057...                11   \n",
       "259   https://twitter.com/dog_rates/status/843235543...                13   \n",
       "1836  https://twitter.com/dog_rates/status/676098748...                 3   \n",
       "2282  https://twitter.com/dog_rates/status/667211855...                 9   \n",
       "1587  https://twitter.com/dog_rates/status/686749460...                 8   \n",
       "2217  https://twitter.com/dog_rates/status/668528771...                12   \n",
       "1075                      https://vine.co/v/iY9Fr1I31U6                12   \n",
       "17    https://twitter.com/dog_rates/status/888804989...                13   \n",
       "907   https://twitter.com/dog_rates/status/757741869...                10   \n",
       "1902  https://twitter.com/dog_rates/status/674644256...                11   \n",
       "530   https://twitter.com/dog_rates/status/801167903...                13   \n",
       "561   https://twitter.com/dog_rates/status/777684233...                12   \n",
       "\n",
       "      rating_denominator       name  doggo floofer pupper  puppo  \n",
       "1643                  10      Sadie   None    None   None   None  \n",
       "395                   10       None   None    None   None  puppo  \n",
       "2165                  10       Chip   None    None   None   None  \n",
       "2053                  10   Penelope   None    None   None   None  \n",
       "259                   10      Tycho   None    None   None   None  \n",
       "1836                  10       None   None    None   None   None  \n",
       "2282                  10  Genevieve   None    None   None   None  \n",
       "1587                  10       None   None    None   None   None  \n",
       "2217                  10     Gòrdón   None    None   None   None  \n",
       "1075                  10       None  doggo    None   None   None  \n",
       "17                    10       Zeke   None    None   None   None  \n",
       "907                   10    Leonard   None    None   None   None  \n",
       "1902                  10       None   None    None   None   None  \n",
       "530                   10       Milo   None    None   None   None  \n",
       "561                   10       None   None    None   None   None  "
      ]
     },
     "execution_count": 8,
     "metadata": {},
     "output_type": "execute_result"
    }
   ],
   "source": [
    "twitter_archive_df.sample(15)"
   ]
  },
  {
   "cell_type": "code",
   "execution_count": 9,
   "metadata": {
    "scrolled": true
   },
   "outputs": [
    {
     "data": {
      "text/html": [
       "<div>\n",
       "<style scoped>\n",
       "    .dataframe tbody tr th:only-of-type {\n",
       "        vertical-align: middle;\n",
       "    }\n",
       "\n",
       "    .dataframe tbody tr th {\n",
       "        vertical-align: top;\n",
       "    }\n",
       "\n",
       "    .dataframe thead th {\n",
       "        text-align: right;\n",
       "    }\n",
       "</style>\n",
       "<table border=\"1\" class=\"dataframe\">\n",
       "  <thead>\n",
       "    <tr style=\"text-align: right;\">\n",
       "      <th></th>\n",
       "      <th>tweet_id</th>\n",
       "      <th>retweet_count</th>\n",
       "      <th>favorite_count</th>\n",
       "    </tr>\n",
       "  </thead>\n",
       "  <tbody>\n",
       "    <tr>\n",
       "      <th>502</th>\n",
       "      <td>810284430598270976</td>\n",
       "      <td>11122</td>\n",
       "      <td>35002</td>\n",
       "    </tr>\n",
       "    <tr>\n",
       "      <th>732</th>\n",
       "      <td>779056095788752897</td>\n",
       "      <td>4452</td>\n",
       "      <td>14593</td>\n",
       "    </tr>\n",
       "    <tr>\n",
       "      <th>784</th>\n",
       "      <td>772117678702071809</td>\n",
       "      <td>723</td>\n",
       "      <td>3722</td>\n",
       "    </tr>\n",
       "    <tr>\n",
       "      <th>478</th>\n",
       "      <td>813187593374461952</td>\n",
       "      <td>4308</td>\n",
       "      <td>19714</td>\n",
       "    </tr>\n",
       "    <tr>\n",
       "      <th>1088</th>\n",
       "      <td>733460102733135873</td>\n",
       "      <td>1230</td>\n",
       "      <td>4047</td>\n",
       "    </tr>\n",
       "    <tr>\n",
       "      <th>1702</th>\n",
       "      <td>679877062409191424</td>\n",
       "      <td>625</td>\n",
       "      <td>1922</td>\n",
       "    </tr>\n",
       "    <tr>\n",
       "      <th>544</th>\n",
       "      <td>802624713319034886</td>\n",
       "      <td>2890</td>\n",
       "      <td>0</td>\n",
       "    </tr>\n",
       "    <tr>\n",
       "      <th>388</th>\n",
       "      <td>824025158776213504</td>\n",
       "      <td>588</td>\n",
       "      <td>4765</td>\n",
       "    </tr>\n",
       "    <tr>\n",
       "      <th>1562</th>\n",
       "      <td>686760001961103360</td>\n",
       "      <td>1337</td>\n",
       "      <td>3418</td>\n",
       "    </tr>\n",
       "    <tr>\n",
       "      <th>1339</th>\n",
       "      <td>702932127499816960</td>\n",
       "      <td>695</td>\n",
       "      <td>2513</td>\n",
       "    </tr>\n",
       "    <tr>\n",
       "      <th>2246</th>\n",
       "      <td>667495797102141441</td>\n",
       "      <td>244</td>\n",
       "      <td>485</td>\n",
       "    </tr>\n",
       "    <tr>\n",
       "      <th>830</th>\n",
       "      <td>765395769549590528</td>\n",
       "      <td>3324</td>\n",
       "      <td>26259</td>\n",
       "    </tr>\n",
       "    <tr>\n",
       "      <th>658</th>\n",
       "      <td>789314372632018944</td>\n",
       "      <td>2270</td>\n",
       "      <td>8606</td>\n",
       "    </tr>\n",
       "    <tr>\n",
       "      <th>1909</th>\n",
       "      <td>674014384960745472</td>\n",
       "      <td>597</td>\n",
       "      <td>1471</td>\n",
       "    </tr>\n",
       "    <tr>\n",
       "      <th>2085</th>\n",
       "      <td>670444955656130560</td>\n",
       "      <td>1838</td>\n",
       "      <td>6322</td>\n",
       "    </tr>\n",
       "  </tbody>\n",
       "</table>\n",
       "</div>"
      ],
      "text/plain": [
       "                tweet_id  retweet_count  favorite_count\n",
       "502   810284430598270976          11122           35002\n",
       "732   779056095788752897           4452           14593\n",
       "784   772117678702071809            723            3722\n",
       "478   813187593374461952           4308           19714\n",
       "1088  733460102733135873           1230            4047\n",
       "1702  679877062409191424            625            1922\n",
       "544   802624713319034886           2890               0\n",
       "388   824025158776213504            588            4765\n",
       "1562  686760001961103360           1337            3418\n",
       "1339  702932127499816960            695            2513\n",
       "2246  667495797102141441            244             485\n",
       "830   765395769549590528           3324           26259\n",
       "658   789314372632018944           2270            8606\n",
       "1909  674014384960745472            597            1471\n",
       "2085  670444955656130560           1838            6322"
      ]
     },
     "execution_count": 9,
     "metadata": {},
     "output_type": "execute_result"
    }
   ],
   "source": [
    "tweet_data_df.sample(15)"
   ]
  },
  {
   "cell_type": "markdown",
   "metadata": {},
   "source": [
    "### Programmatic assessment\n",
    "\n",
    "#### Dataframe structure"
   ]
  },
  {
   "cell_type": "code",
   "execution_count": 10,
   "metadata": {},
   "outputs": [
    {
     "name": "stdout",
     "output_type": "stream",
     "text": [
      "<class 'pandas.core.frame.DataFrame'>\n",
      "RangeIndex: 2075 entries, 0 to 2074\n",
      "Data columns (total 12 columns):\n",
      " #   Column    Non-Null Count  Dtype  \n",
      "---  ------    --------------  -----  \n",
      " 0   tweet_id  2075 non-null   int64  \n",
      " 1   jpg_url   2075 non-null   object \n",
      " 2   img_num   2075 non-null   int64  \n",
      " 3   p1        2075 non-null   object \n",
      " 4   p1_conf   2075 non-null   float64\n",
      " 5   p1_dog    2075 non-null   bool   \n",
      " 6   p2        2075 non-null   object \n",
      " 7   p2_conf   2075 non-null   float64\n",
      " 8   p2_dog    2075 non-null   bool   \n",
      " 9   p3        2075 non-null   object \n",
      " 10  p3_conf   2075 non-null   float64\n",
      " 11  p3_dog    2075 non-null   bool   \n",
      "dtypes: bool(3), float64(3), int64(2), object(4)\n",
      "memory usage: 152.1+ KB\n"
     ]
    }
   ],
   "source": [
    "image_pred_df.info()"
   ]
  },
  {
   "cell_type": "code",
   "execution_count": 11,
   "metadata": {},
   "outputs": [
    {
     "data": {
      "text/plain": [
       "0"
      ]
     },
     "execution_count": 11,
     "metadata": {},
     "output_type": "execute_result"
    }
   ],
   "source": [
    "image_pred_df.duplicated().sum()"
   ]
  },
  {
   "cell_type": "code",
   "execution_count": 12,
   "metadata": {},
   "outputs": [
    {
     "name": "stdout",
     "output_type": "stream",
     "text": [
      "<class 'pandas.core.frame.DataFrame'>\n",
      "RangeIndex: 2356 entries, 0 to 2355\n",
      "Data columns (total 17 columns):\n",
      " #   Column                      Non-Null Count  Dtype  \n",
      "---  ------                      --------------  -----  \n",
      " 0   tweet_id                    2356 non-null   int64  \n",
      " 1   in_reply_to_status_id       78 non-null     float64\n",
      " 2   in_reply_to_user_id         78 non-null     float64\n",
      " 3   timestamp                   2356 non-null   object \n",
      " 4   source                      2356 non-null   object \n",
      " 5   text                        2356 non-null   object \n",
      " 6   retweeted_status_id         181 non-null    float64\n",
      " 7   retweeted_status_user_id    181 non-null    float64\n",
      " 8   retweeted_status_timestamp  181 non-null    object \n",
      " 9   expanded_urls               2297 non-null   object \n",
      " 10  rating_numerator            2356 non-null   int64  \n",
      " 11  rating_denominator          2356 non-null   int64  \n",
      " 12  name                        2356 non-null   object \n",
      " 13  doggo                       2356 non-null   object \n",
      " 14  floofer                     2356 non-null   object \n",
      " 15  pupper                      2356 non-null   object \n",
      " 16  puppo                       2356 non-null   object \n",
      "dtypes: float64(4), int64(3), object(10)\n",
      "memory usage: 313.0+ KB\n"
     ]
    }
   ],
   "source": [
    "twitter_archive_df.info()"
   ]
  },
  {
   "cell_type": "code",
   "execution_count": 13,
   "metadata": {},
   "outputs": [
    {
     "data": {
      "text/plain": [
       "0"
      ]
     },
     "execution_count": 13,
     "metadata": {},
     "output_type": "execute_result"
    }
   ],
   "source": [
    "twitter_archive_df.duplicated().sum()"
   ]
  },
  {
   "cell_type": "code",
   "execution_count": 14,
   "metadata": {},
   "outputs": [
    {
     "data": {
      "text/html": [
       "<div>\n",
       "<style scoped>\n",
       "    .dataframe tbody tr th:only-of-type {\n",
       "        vertical-align: middle;\n",
       "    }\n",
       "\n",
       "    .dataframe tbody tr th {\n",
       "        vertical-align: top;\n",
       "    }\n",
       "\n",
       "    .dataframe thead th {\n",
       "        text-align: right;\n",
       "    }\n",
       "</style>\n",
       "<table border=\"1\" class=\"dataframe\">\n",
       "  <thead>\n",
       "    <tr style=\"text-align: right;\">\n",
       "      <th></th>\n",
       "      <th>tweet_id</th>\n",
       "      <th>in_reply_to_status_id</th>\n",
       "      <th>in_reply_to_user_id</th>\n",
       "      <th>retweeted_status_id</th>\n",
       "      <th>retweeted_status_user_id</th>\n",
       "      <th>rating_numerator</th>\n",
       "      <th>rating_denominator</th>\n",
       "    </tr>\n",
       "  </thead>\n",
       "  <tbody>\n",
       "    <tr>\n",
       "      <th>count</th>\n",
       "      <td>2.356000e+03</td>\n",
       "      <td>7.800000e+01</td>\n",
       "      <td>7.800000e+01</td>\n",
       "      <td>1.810000e+02</td>\n",
       "      <td>1.810000e+02</td>\n",
       "      <td>2356.000000</td>\n",
       "      <td>2356.000000</td>\n",
       "    </tr>\n",
       "    <tr>\n",
       "      <th>mean</th>\n",
       "      <td>7.427716e+17</td>\n",
       "      <td>7.455079e+17</td>\n",
       "      <td>2.014171e+16</td>\n",
       "      <td>7.720400e+17</td>\n",
       "      <td>1.241698e+16</td>\n",
       "      <td>13.126486</td>\n",
       "      <td>10.455433</td>\n",
       "    </tr>\n",
       "    <tr>\n",
       "      <th>std</th>\n",
       "      <td>6.856705e+16</td>\n",
       "      <td>7.582492e+16</td>\n",
       "      <td>1.252797e+17</td>\n",
       "      <td>6.236928e+16</td>\n",
       "      <td>9.599254e+16</td>\n",
       "      <td>45.876648</td>\n",
       "      <td>6.745237</td>\n",
       "    </tr>\n",
       "    <tr>\n",
       "      <th>min</th>\n",
       "      <td>6.660209e+17</td>\n",
       "      <td>6.658147e+17</td>\n",
       "      <td>1.185634e+07</td>\n",
       "      <td>6.661041e+17</td>\n",
       "      <td>7.832140e+05</td>\n",
       "      <td>0.000000</td>\n",
       "      <td>0.000000</td>\n",
       "    </tr>\n",
       "    <tr>\n",
       "      <th>25%</th>\n",
       "      <td>6.783989e+17</td>\n",
       "      <td>6.757419e+17</td>\n",
       "      <td>3.086374e+08</td>\n",
       "      <td>7.186315e+17</td>\n",
       "      <td>4.196984e+09</td>\n",
       "      <td>10.000000</td>\n",
       "      <td>10.000000</td>\n",
       "    </tr>\n",
       "    <tr>\n",
       "      <th>50%</th>\n",
       "      <td>7.196279e+17</td>\n",
       "      <td>7.038708e+17</td>\n",
       "      <td>4.196984e+09</td>\n",
       "      <td>7.804657e+17</td>\n",
       "      <td>4.196984e+09</td>\n",
       "      <td>11.000000</td>\n",
       "      <td>10.000000</td>\n",
       "    </tr>\n",
       "    <tr>\n",
       "      <th>75%</th>\n",
       "      <td>7.993373e+17</td>\n",
       "      <td>8.257804e+17</td>\n",
       "      <td>4.196984e+09</td>\n",
       "      <td>8.203146e+17</td>\n",
       "      <td>4.196984e+09</td>\n",
       "      <td>12.000000</td>\n",
       "      <td>10.000000</td>\n",
       "    </tr>\n",
       "    <tr>\n",
       "      <th>max</th>\n",
       "      <td>8.924206e+17</td>\n",
       "      <td>8.862664e+17</td>\n",
       "      <td>8.405479e+17</td>\n",
       "      <td>8.874740e+17</td>\n",
       "      <td>7.874618e+17</td>\n",
       "      <td>1776.000000</td>\n",
       "      <td>170.000000</td>\n",
       "    </tr>\n",
       "  </tbody>\n",
       "</table>\n",
       "</div>"
      ],
      "text/plain": [
       "           tweet_id  in_reply_to_status_id  in_reply_to_user_id  \\\n",
       "count  2.356000e+03           7.800000e+01         7.800000e+01   \n",
       "mean   7.427716e+17           7.455079e+17         2.014171e+16   \n",
       "std    6.856705e+16           7.582492e+16         1.252797e+17   \n",
       "min    6.660209e+17           6.658147e+17         1.185634e+07   \n",
       "25%    6.783989e+17           6.757419e+17         3.086374e+08   \n",
       "50%    7.196279e+17           7.038708e+17         4.196984e+09   \n",
       "75%    7.993373e+17           8.257804e+17         4.196984e+09   \n",
       "max    8.924206e+17           8.862664e+17         8.405479e+17   \n",
       "\n",
       "       retweeted_status_id  retweeted_status_user_id  rating_numerator  \\\n",
       "count         1.810000e+02              1.810000e+02       2356.000000   \n",
       "mean          7.720400e+17              1.241698e+16         13.126486   \n",
       "std           6.236928e+16              9.599254e+16         45.876648   \n",
       "min           6.661041e+17              7.832140e+05          0.000000   \n",
       "25%           7.186315e+17              4.196984e+09         10.000000   \n",
       "50%           7.804657e+17              4.196984e+09         11.000000   \n",
       "75%           8.203146e+17              4.196984e+09         12.000000   \n",
       "max           8.874740e+17              7.874618e+17       1776.000000   \n",
       "\n",
       "       rating_denominator  \n",
       "count         2356.000000  \n",
       "mean            10.455433  \n",
       "std              6.745237  \n",
       "min              0.000000  \n",
       "25%             10.000000  \n",
       "50%             10.000000  \n",
       "75%             10.000000  \n",
       "max            170.000000  "
      ]
     },
     "execution_count": 14,
     "metadata": {},
     "output_type": "execute_result"
    }
   ],
   "source": [
    "twitter_archive_df.describe()"
   ]
  },
  {
   "cell_type": "code",
   "execution_count": 15,
   "metadata": {},
   "outputs": [
    {
     "data": {
      "text/plain": [
       "12      558\n",
       "11      464\n",
       "10      461\n",
       "13      351\n",
       "9       158\n",
       "8       102\n",
       "7        55\n",
       "14       54\n",
       "5        37\n",
       "6        32\n",
       "3        19\n",
       "4        17\n",
       "1         9\n",
       "2         9\n",
       "420       2\n",
       "0         2\n",
       "15        2\n",
       "75        2\n",
       "80        1\n",
       "20        1\n",
       "24        1\n",
       "26        1\n",
       "44        1\n",
       "50        1\n",
       "60        1\n",
       "165       1\n",
       "84        1\n",
       "88        1\n",
       "144       1\n",
       "182       1\n",
       "143       1\n",
       "666       1\n",
       "960       1\n",
       "1776      1\n",
       "17        1\n",
       "27        1\n",
       "45        1\n",
       "99        1\n",
       "121       1\n",
       "204       1\n",
       "Name: rating_numerator, dtype: int64"
      ]
     },
     "execution_count": 15,
     "metadata": {},
     "output_type": "execute_result"
    }
   ],
   "source": [
    "twitter_archive_df.rating_numerator.value_counts()"
   ]
  },
  {
   "cell_type": "code",
   "execution_count": 16,
   "metadata": {},
   "outputs": [
    {
     "data": {
      "text/plain": [
       "10     2333\n",
       "11        3\n",
       "50        3\n",
       "80        2\n",
       "20        2\n",
       "2         1\n",
       "16        1\n",
       "40        1\n",
       "70        1\n",
       "15        1\n",
       "90        1\n",
       "110       1\n",
       "120       1\n",
       "130       1\n",
       "150       1\n",
       "170       1\n",
       "7         1\n",
       "0         1\n",
       "Name: rating_denominator, dtype: int64"
      ]
     },
     "execution_count": 16,
     "metadata": {},
     "output_type": "execute_result"
    }
   ],
   "source": [
    "twitter_archive_df.rating_denominator.value_counts()"
   ]
  },
  {
   "cell_type": "markdown",
   "metadata": {},
   "source": [
    "## Quality Issues:\n",
    "### twitter_archive_df\n",
    "- name columns has String 'None'\n",
    "- wrong data types ['tweet_id', 'timestamp']\n",
    "- redundant retweets rows\n",
    "- redundant \"in reply to users' tweet\" rows\n",
    "- some rating_denominator do not equal 10\n",
    "- the rows in sources columns are over 95% duplicated\n",
    "- missing data in name encoded as the string 'None'\n",
    "\n",
    "### image_pred_df\n",
    "- false predictions.\n",
    "\n",
    "### Tidiness Issues:\n",
    "twitter_archive_df\n",
    "- doggo bread seperated to 4 columns\n",
    "- \"retweet count\" and \"favorite count\" columns are not in the twitter_archive_df"
   ]
  },
  {
   "cell_type": "markdown",
   "metadata": {},
   "source": [
    "### Clean"
   ]
  },
  {
   "cell_type": "code",
   "execution_count": 17,
   "metadata": {},
   "outputs": [],
   "source": [
    "# make copies\n",
    "twitter_archive_df_clean = twitter_archive_df.copy()\n",
    "image_pred_df_clean = image_pred_df.copy()\n",
    "tweet_data_df_clean = tweet_data_df.copy()"
   ]
  },
  {
   "cell_type": "markdown",
   "metadata": {},
   "source": [
    "#### Tackle the Tidiness Issuies\n",
    "\n",
    "1.0 redundent columns of same category, which is now divided into [\"doggo\", \"flooter\", \"pupper\", \"puppo\"] columns, but we only need one \"stage\" column\n",
    "##### Define: convert [\"doggo\", \"flooter\", \"pupper\", \"puppo\"] columns into one \"stage\" column, then drop the four columns.\n",
    "#### Code"
   ]
  },
  {
   "cell_type": "code",
   "execution_count": 18,
   "metadata": {},
   "outputs": [
    {
     "data": {
      "text/plain": [
       "Index(['tweet_id', 'in_reply_to_status_id', 'in_reply_to_user_id', 'timestamp',\n",
       "       'source', 'text', 'retweeted_status_id', 'retweeted_status_user_id',\n",
       "       'retweeted_status_timestamp', 'expanded_urls', 'rating_numerator',\n",
       "       'rating_denominator', 'name', 'doggo', 'floofer', 'pupper', 'puppo'],\n",
       "      dtype='object')"
      ]
     },
     "execution_count": 18,
     "metadata": {},
     "output_type": "execute_result"
    }
   ],
   "source": [
    "twitter_archive_df_clean.columns"
   ]
  },
  {
   "cell_type": "code",
   "execution_count": 19,
   "metadata": {},
   "outputs": [
    {
     "data": {
      "text/plain": [
       "NoneNoneNoneNone        1976\n",
       "NoneNonepupperNone       245\n",
       "doggoNoneNoneNone         83\n",
       "NoneNoneNonepuppo         29\n",
       "doggoNonepupperNone       12\n",
       "NoneflooferNoneNone        9\n",
       "doggoNoneNonepuppo         1\n",
       "doggoflooferNoneNone       1\n",
       "Name: dog breed, dtype: int64"
      ]
     },
     "execution_count": 19,
     "metadata": {},
     "output_type": "execute_result"
    }
   ],
   "source": [
    "# dog_breed = ['doggo', 'floofer', 'pupper', 'puppo']\n",
    "twitter_archive_df_clean['dog breed'] = twitter_archive_df_clean.doggo + twitter_archive_df_clean.floofer + twitter_archive_df_clean.pupper + twitter_archive_df_clean.puppo\n",
    "twitter_archive_df_clean['dog breed'].value_counts()"
   ]
  },
  {
   "cell_type": "code",
   "execution_count": 20,
   "metadata": {},
   "outputs": [
    {
     "data": {
      "text/plain": [
       "                1976\n",
       "pupper           245\n",
       "doggo             83\n",
       "puppo             29\n",
       "doggopupper       12\n",
       "floofer            9\n",
       "doggopuppo         1\n",
       "doggofloofer       1\n",
       "Name: dog breed, dtype: int64"
      ]
     },
     "execution_count": 20,
     "metadata": {},
     "output_type": "execute_result"
    }
   ],
   "source": [
    "twitter_archive_df_clean['dog breed'] = twitter_archive_df_clean['dog breed'].map(lambda x: x.replace(\"None\",\"\"))\n",
    "twitter_archive_df_clean['dog breed'].value_counts()"
   ]
  },
  {
   "cell_type": "code",
   "execution_count": 21,
   "metadata": {},
   "outputs": [],
   "source": [
    "twitter_archive_df_clean.loc[twitter_archive_df_clean['dog breed'] == 'doggopuppo', 'dog breed'] = 'doggo, puppo'\n",
    "twitter_archive_df_clean.loc[twitter_archive_df_clean['dog breed'] == 'doggofloofer', 'dog breed'] = 'doggo, floofer'\n",
    "\n",
    "twitter_archive_df_clean.drop(['doggo', 'floofer', 'pupper', 'puppo'], axis =1, inplace=True)"
   ]
  },
  {
   "cell_type": "markdown",
   "metadata": {},
   "source": [
    "#### Test"
   ]
  },
  {
   "cell_type": "code",
   "execution_count": 22,
   "metadata": {},
   "outputs": [
    {
     "data": {
      "text/plain": [
       "Index(['tweet_id', 'in_reply_to_status_id', 'in_reply_to_user_id', 'timestamp',\n",
       "       'source', 'text', 'retweeted_status_id', 'retweeted_status_user_id',\n",
       "       'retweeted_status_timestamp', 'expanded_urls', 'rating_numerator',\n",
       "       'rating_denominator', 'name', 'dog breed'],\n",
       "      dtype='object')"
      ]
     },
     "execution_count": 22,
     "metadata": {},
     "output_type": "execute_result"
    }
   ],
   "source": [
    "twitter_archive_df_clean.columns"
   ]
  },
  {
   "cell_type": "markdown",
   "metadata": {},
   "source": [
    "2. \"retweet count\" and \"favorite count\" columns are not in the twitter_archive_df\n",
    "##### Define: merge \"retweet_count_and_favorite_count\" with twitter_clean_df on tweet_id\n",
    "#### Code"
   ]
  },
  {
   "cell_type": "code",
   "execution_count": 23,
   "metadata": {},
   "outputs": [
    {
     "name": "stdout",
     "output_type": "stream",
     "text": [
      "<class 'pandas.core.frame.DataFrame'>\n",
      "RangeIndex: 2356 entries, 0 to 2355\n",
      "Data columns (total 14 columns):\n",
      " #   Column                      Non-Null Count  Dtype  \n",
      "---  ------                      --------------  -----  \n",
      " 0   tweet_id                    2356 non-null   int64  \n",
      " 1   in_reply_to_status_id       78 non-null     float64\n",
      " 2   in_reply_to_user_id         78 non-null     float64\n",
      " 3   timestamp                   2356 non-null   object \n",
      " 4   source                      2356 non-null   object \n",
      " 5   text                        2356 non-null   object \n",
      " 6   retweeted_status_id         181 non-null    float64\n",
      " 7   retweeted_status_user_id    181 non-null    float64\n",
      " 8   retweeted_status_timestamp  181 non-null    object \n",
      " 9   expanded_urls               2297 non-null   object \n",
      " 10  rating_numerator            2356 non-null   int64  \n",
      " 11  rating_denominator          2356 non-null   int64  \n",
      " 12  name                        2356 non-null   object \n",
      " 13  dog breed                   2356 non-null   object \n",
      "dtypes: float64(4), int64(3), object(7)\n",
      "memory usage: 257.8+ KB\n"
     ]
    }
   ],
   "source": [
    "twitter_archive_df_clean.info()"
   ]
  },
  {
   "cell_type": "code",
   "execution_count": 24,
   "metadata": {},
   "outputs": [
    {
     "name": "stdout",
     "output_type": "stream",
     "text": [
      "<class 'pandas.core.frame.DataFrame'>\n",
      "RangeIndex: 2331 entries, 0 to 2330\n",
      "Data columns (total 3 columns):\n",
      " #   Column          Non-Null Count  Dtype \n",
      "---  ------          --------------  ----- \n",
      " 0   tweet_id        2331 non-null   object\n",
      " 1   retweet_count   2331 non-null   int64 \n",
      " 2   favorite_count  2331 non-null   int64 \n",
      "dtypes: int64(2), object(1)\n",
      "memory usage: 54.8+ KB\n"
     ]
    }
   ],
   "source": [
    "tweet_data_df_clean.info()"
   ]
  },
  {
   "cell_type": "code",
   "execution_count": 25,
   "metadata": {
    "scrolled": false
   },
   "outputs": [],
   "source": [
    "# convert tweet_id in tweet_data_df_clean to int which i couldn`t so (error OverflowError: Python int too large to convert to C long)\n",
    "# tweet_data_df_clean.tweet_id.astype('int')\n",
    "# tweet_data_df_clean\n",
    "\n",
    "# so i will change the twitter_archive_df_clean.tweet_id to srt instead\n",
    "twitter_archive_df_clean.tweet_id = twitter_archive_df_clean.tweet_id.astype('str')\n",
    "\n",
    "# merge tweet_data_df_clean with twitter_archived_df_clean\n",
    "twitter_archive_df_clean = pd.merge(twitter_archive_df_clean, tweet_data_df_clean, on=['tweet_id'], how='left')\n"
   ]
  },
  {
   "cell_type": "markdown",
   "metadata": {},
   "source": [
    "#### Test"
   ]
  },
  {
   "cell_type": "code",
   "execution_count": 26,
   "metadata": {},
   "outputs": [
    {
     "name": "stdout",
     "output_type": "stream",
     "text": [
      "<class 'pandas.core.frame.DataFrame'>\n",
      "Int64Index: 2356 entries, 0 to 2355\n",
      "Data columns (total 16 columns):\n",
      " #   Column                      Non-Null Count  Dtype  \n",
      "---  ------                      --------------  -----  \n",
      " 0   tweet_id                    2356 non-null   object \n",
      " 1   in_reply_to_status_id       78 non-null     float64\n",
      " 2   in_reply_to_user_id         78 non-null     float64\n",
      " 3   timestamp                   2356 non-null   object \n",
      " 4   source                      2356 non-null   object \n",
      " 5   text                        2356 non-null   object \n",
      " 6   retweeted_status_id         181 non-null    float64\n",
      " 7   retweeted_status_user_id    181 non-null    float64\n",
      " 8   retweeted_status_timestamp  181 non-null    object \n",
      " 9   expanded_urls               2297 non-null   object \n",
      " 10  rating_numerator            2356 non-null   int64  \n",
      " 11  rating_denominator          2356 non-null   int64  \n",
      " 12  name                        2356 non-null   object \n",
      " 13  dog breed                   2356 non-null   object \n",
      " 14  retweet_count               2331 non-null   float64\n",
      " 15  favorite_count              2331 non-null   float64\n",
      "dtypes: float64(6), int64(2), object(8)\n",
      "memory usage: 312.9+ KB\n"
     ]
    }
   ],
   "source": [
    "twitter_archive_df_clean.info()"
   ]
  },
  {
   "cell_type": "markdown",
   "metadata": {},
   "source": [
    "### Tackle the quality issues\n",
    "1. redundant retweets rows\n",
    "#### Define: Find the index of retweets, then remove retweets rows and [ 'retweeted_status_id', 'retweeted_status_user_id', 'retweeted_status_timestamp'] columns\n",
    "\n",
    "### Code"
   ]
  },
  {
   "cell_type": "code",
   "execution_count": 27,
   "metadata": {},
   "outputs": [
    {
     "data": {
      "text/plain": [
       "retweeted_status_id  retweeted_status_user_id  retweeted_status_timestamp\n",
       "8.874740e+17         4.196984e+09              2017-07-19 00:47:34 +0000     1\n",
       "7.594477e+17         4.196984e+09              2016-07-30 17:56:51 +0000     1\n",
       "7.575971e+17         2.804798e+08              2016-07-25 15:23:28 +0000     1\n",
       "7.562885e+17         4.196984e+09              2016-07-22 00:43:32 +0000     1\n",
       "7.533757e+17         4.196984e+09              2016-07-13 23:48:51 +0000     1\n",
       "                                                                            ..\n",
       "8.008540e+17         7.992370e+07              2016-11-22 00:10:52 +0000     1\n",
       "8.001414e+17         4.196984e+09              2016-11-20 00:59:15 +0000     1\n",
       "8.000650e+17         2.488557e+07              2016-11-19 19:55:41 +0000     1\n",
       "7.961497e+17         4.196984e+09              2016-11-09 00:37:46 +0000     1\n",
       "6.661041e+17         4.196984e+09              2015-11-16 04:02:55 +0000     1\n",
       "Length: 181, dtype: int64"
      ]
     },
     "execution_count": 27,
     "metadata": {},
     "output_type": "execute_result"
    }
   ],
   "source": [
    "twitter_archive_df_clean[['retweeted_status_id', 'retweeted_status_user_id', 'retweeted_status_timestamp']].value_counts()"
   ]
  },
  {
   "cell_type": "code",
   "execution_count": 28,
   "metadata": {},
   "outputs": [
    {
     "data": {
      "text/plain": [
       "True     2175\n",
       "False     181\n",
       "Name: retweeted_status_id, dtype: int64"
      ]
     },
     "execution_count": 28,
     "metadata": {},
     "output_type": "execute_result"
    }
   ],
   "source": [
    "twitter_archive_df_clean['retweeted_status_id'].isnull().value_counts()"
   ]
  },
  {
   "cell_type": "code",
   "execution_count": 29,
   "metadata": {},
   "outputs": [],
   "source": [
    "retweet_index = twitter_archive_df_clean[twitter_archive_df_clean.retweeted_status_id.isnull()==False].index\n",
    "twitter_archive_df_clean.drop(axis=0, index=retweet_index, inplace=True)\n",
    "twitter_archive_df_clean[['retweeted_status_id', 'retweeted_status_user_id', 'retweeted_status_timestamp']].value_counts()\n",
    "\n",
    "twitter_archive_df_clean.drop(['retweeted_status_id', \n",
    "                       'retweeted_status_user_id', \n",
    "                       'retweeted_status_timestamp'],\n",
    "                      axis=1,\n",
    "                      inplace=True)"
   ]
  },
  {
   "cell_type": "markdown",
   "metadata": {},
   "source": [
    "#### Test"
   ]
  },
  {
   "cell_type": "code",
   "execution_count": 30,
   "metadata": {},
   "outputs": [],
   "source": [
    "for retweet in retweet_index:\n",
    "    if retweet in list(twitter_archive_df_clean.index):\n",
    "        print('Found a retweet')"
   ]
  },
  {
   "cell_type": "markdown",
   "metadata": {},
   "source": [
    "2. redundant \"in reply to users' tweet\" rows\n",
    "#### Define: find the index of \"reply\" kind of tweets, then remove them and the ['in_reply_to_user_id' , 'in_reply_to_status_id' ] columns\n",
    "\n",
    "#### Code"
   ]
  },
  {
   "cell_type": "code",
   "execution_count": 31,
   "metadata": {},
   "outputs": [
    {
     "data": {
      "text/plain": [
       "True     2097\n",
       "False      78\n",
       "Name: in_reply_to_status_id, dtype: int64"
      ]
     },
     "execution_count": 31,
     "metadata": {},
     "output_type": "execute_result"
    }
   ],
   "source": [
    "twitter_archive_df_clean['in_reply_to_status_id'].isnull().value_counts()"
   ]
  },
  {
   "cell_type": "code",
   "execution_count": 32,
   "metadata": {},
   "outputs": [],
   "source": [
    "replies_index = twitter_archive_df_clean[twitter_archive_df_clean['in_reply_to_status_id'].isnull()==False].index\n",
    "twitter_archive_df_clean.drop(axis=0, index=replies_index, inplace=True)\n",
    "\n",
    "twitter_archive_df_clean.drop( ['in_reply_to_user_id' , 'in_reply_to_status_id' ],\n",
    "                      axis=1,\n",
    "                      inplace=True)"
   ]
  },
  {
   "cell_type": "code",
   "execution_count": 33,
   "metadata": {},
   "outputs": [],
   "source": [
    "for reply in replies_index:\n",
    "    if reply in list(twitter_archive_df_clean.index):\n",
    "        print('Found a reply')"
   ]
  },
  {
   "cell_type": "markdown",
   "metadata": {},
   "source": [
    "3. wrong rating_numerators in tweet_id 883482846933004288, 778027034220126208, given the number after the decimal point instead of whole numbers\n",
    "\n",
    "#### Define: find the numbers in articles that are float, and save them into 'temp' column temporarily , then convert the rating_ numerator column to float data type and add the right float number into it.\n",
    "\n",
    "#### Code"
   ]
  },
  {
   "cell_type": "code",
   "execution_count": 34,
   "metadata": {},
   "outputs": [
    {
     "data": {
      "text/plain": [
       "45    5\n",
       "Name: rating_numerator, dtype: int64"
      ]
     },
     "execution_count": 34,
     "metadata": {},
     "output_type": "execute_result"
    }
   ],
   "source": [
    "twitter_archive_df_clean.rating_numerator[twitter_archive_df_clean.tweet_id == '883482846933004288']"
   ]
  },
  {
   "cell_type": "code",
   "execution_count": 35,
   "metadata": {},
   "outputs": [
    {
     "data": {
      "text/plain": [
       "45    This is Bella. She hopes her smile made you sm...\n",
       "Name: text, dtype: object"
      ]
     },
     "execution_count": 35,
     "metadata": {},
     "output_type": "execute_result"
    }
   ],
   "source": [
    "twitter_archive_df_clean.text[twitter_archive_df_clean.tweet_id == '883482846933004288']"
   ]
  },
  {
   "cell_type": "code",
   "execution_count": 36,
   "metadata": {},
   "outputs": [],
   "source": [
    "twitter_archive_df_clean['true_rate'] = twitter_archive_df_clean.text.str.extract(r\"([0-9]+[.][0-9]+/[0-9]+)\")"
   ]
  },
  {
   "cell_type": "code",
   "execution_count": 37,
   "metadata": {},
   "outputs": [],
   "source": [
    "twitter_archive_df_clean.rating_numerator = twitter_archive_df_clean.rating_numerator.astype(float)"
   ]
  },
  {
   "cell_type": "code",
   "execution_count": 38,
   "metadata": {},
   "outputs": [
    {
     "name": "stderr",
     "output_type": "stream",
     "text": [
      "<ipython-input-38-993732991376>:4: SettingWithCopyWarning: \n",
      "A value is trying to be set on a copy of a slice from a DataFrame\n",
      "\n",
      "See the caveats in the documentation: https://pandas.pydata.org/pandas-docs/stable/user_guide/indexing.html#returning-a-view-versus-a-copy\n",
      "  twitter_archive_df_clean.rating_numerator[i] = float(twitter_archive_df_clean.true_rate[i][:-3])\n"
     ]
    }
   ],
   "source": [
    "wrong_rates = twitter_archive_df_clean[twitter_archive_df_clean.true_rate.isnull() == False].index\n",
    "\n",
    "for i in wrong_rates:\n",
    "    twitter_archive_df_clean.rating_numerator[i] = float(twitter_archive_df_clean.true_rate[i][:-3])"
   ]
  },
  {
   "cell_type": "code",
   "execution_count": 39,
   "metadata": {},
   "outputs": [],
   "source": [
    "twitter_archive_df_clean.drop(\"true_rate\", axis=1, inplace= True)"
   ]
  },
  {
   "cell_type": "markdown",
   "metadata": {},
   "source": [
    "#### Test"
   ]
  },
  {
   "cell_type": "code",
   "execution_count": 40,
   "metadata": {},
   "outputs": [
    {
     "name": "stdout",
     "output_type": "stream",
     "text": [
      "13.5\n",
      "9.75\n",
      "11.27\n",
      "11.26\n"
     ]
    }
   ],
   "source": [
    "for i in wrong_rates:\n",
    "    print(twitter_archive_df_clean.rating_numerator[i])"
   ]
  },
  {
   "cell_type": "code",
   "execution_count": 41,
   "metadata": {
    "scrolled": true
   },
   "outputs": [
    {
     "data": {
      "text/plain": [
       "45    13.5\n",
       "Name: rating_numerator, dtype: float64"
      ]
     },
     "execution_count": 41,
     "metadata": {},
     "output_type": "execute_result"
    }
   ],
   "source": [
    "twitter_archive_df_clean.rating_numerator[twitter_archive_df_clean.tweet_id == '883482846933004288']"
   ]
  },
  {
   "cell_type": "markdown",
   "metadata": {},
   "source": [
    "4. name columns has String 'None'\n",
    "\n",
    "#### Define: find the list of wrong names and use for loop to give indvidual name \"None\".\n",
    "\n",
    "#### Code"
   ]
  },
  {
   "cell_type": "code",
   "execution_count": 42,
   "metadata": {},
   "outputs": [
    {
     "data": {
      "text/plain": [
       "None       603\n",
       "a           55\n",
       "Charlie     11\n",
       "Lucy        11\n",
       "Cooper      10\n",
       "          ... \n",
       "Ralph        1\n",
       "Kawhi        1\n",
       "Gerbald      1\n",
       "Monty        1\n",
       "Leonard      1\n",
       "Name: name, Length: 955, dtype: int64"
      ]
     },
     "execution_count": 42,
     "metadata": {},
     "output_type": "execute_result"
    }
   ],
   "source": [
    "twitter_archive_df_clean.name.value_counts()"
   ]
  },
  {
   "cell_type": "markdown",
   "metadata": {},
   "source": [
    "from my beginning analysis i found only tha names has None values but now i found it has also wrong names as 'a' and 'an'\n",
    "which i thought i could extract the name from the text but no names also in text."
   ]
  },
  {
   "cell_type": "code",
   "execution_count": 43,
   "metadata": {
    "scrolled": true
   },
   "outputs": [
    {
     "name": "stderr",
     "output_type": "stream",
     "text": [
      "<ipython-input-43-0c01e377fb4a>:4: SettingWithCopyWarning: \n",
      "A value is trying to be set on a copy of a slice from a DataFrame\n",
      "\n",
      "See the caveats in the documentation: https://pandas.pydata.org/pandas-docs/stable/user_guide/indexing.html#returning-a-view-versus-a-copy\n",
      "  twitter_archive_df_clean.name[i] = 'None'\n"
     ]
    }
   ],
   "source": [
    "wrong_name = twitter_archive_df_clean.query('name == \"a\" or name == \"an\"').index\n",
    "\n",
    "for i in wrong_name:\n",
    "    twitter_archive_df_clean.name[i] = 'None'\n",
    "                                      "
   ]
  },
  {
   "cell_type": "markdown",
   "metadata": {},
   "source": [
    "#### Test"
   ]
  },
  {
   "cell_type": "code",
   "execution_count": 44,
   "metadata": {},
   "outputs": [],
   "source": [
    "for i in wrong_name:\n",
    "    if twitter_archive_df_clean.name[i] != \"None\":\n",
    "        print(\"wrong name\")"
   ]
  },
  {
   "cell_type": "markdown",
   "metadata": {},
   "source": [
    "5. some rating_denominator do not equal 10\n",
    "\n",
    "#### Define: find the list of rating_denominator != 10, then drop those rows\n",
    "\n",
    "#### Code"
   ]
  },
  {
   "cell_type": "code",
   "execution_count": 45,
   "metadata": {},
   "outputs": [],
   "source": [
    "wrong_denom_rate = twitter_archive_df_clean.query(\"rating_denominator != 10\").index\n",
    "twitter_archive_df_clean.drop(index=wrong_denom_rate, inplace=True)"
   ]
  },
  {
   "cell_type": "markdown",
   "metadata": {},
   "source": [
    "#### Test"
   ]
  },
  {
   "cell_type": "code",
   "execution_count": 46,
   "metadata": {},
   "outputs": [
    {
     "data": {
      "text/html": [
       "<div>\n",
       "<style scoped>\n",
       "    .dataframe tbody tr th:only-of-type {\n",
       "        vertical-align: middle;\n",
       "    }\n",
       "\n",
       "    .dataframe tbody tr th {\n",
       "        vertical-align: top;\n",
       "    }\n",
       "\n",
       "    .dataframe thead th {\n",
       "        text-align: right;\n",
       "    }\n",
       "</style>\n",
       "<table border=\"1\" class=\"dataframe\">\n",
       "  <thead>\n",
       "    <tr style=\"text-align: right;\">\n",
       "      <th></th>\n",
       "      <th>tweet_id</th>\n",
       "      <th>timestamp</th>\n",
       "      <th>source</th>\n",
       "      <th>text</th>\n",
       "      <th>expanded_urls</th>\n",
       "      <th>rating_numerator</th>\n",
       "      <th>rating_denominator</th>\n",
       "      <th>name</th>\n",
       "      <th>dog breed</th>\n",
       "      <th>retweet_count</th>\n",
       "      <th>favorite_count</th>\n",
       "    </tr>\n",
       "  </thead>\n",
       "  <tbody>\n",
       "  </tbody>\n",
       "</table>\n",
       "</div>"
      ],
      "text/plain": [
       "Empty DataFrame\n",
       "Columns: [tweet_id, timestamp, source, text, expanded_urls, rating_numerator, rating_denominator, name, dog breed, retweet_count, favorite_count]\n",
       "Index: []"
      ]
     },
     "execution_count": 46,
     "metadata": {},
     "output_type": "execute_result"
    }
   ],
   "source": [
    "twitter_archive_df_clean.query(\"rating_denominator != 10\")"
   ]
  },
  {
   "cell_type": "markdown",
   "metadata": {},
   "source": [
    "6. wrong Data types of \"timestamp\", dog breed\n",
    "#### Define: change data type\n",
    "\n",
    "#### Code"
   ]
  },
  {
   "cell_type": "code",
   "execution_count": 47,
   "metadata": {},
   "outputs": [],
   "source": [
    "twitter_archive_df_clean.timestamp = twitter_archive_df_clean.timestamp.astype('datetime64')\n",
    "twitter_archive_df_clean['dog breed'] = twitter_archive_df_clean['dog breed'].astype('category')"
   ]
  },
  {
   "cell_type": "markdown",
   "metadata": {},
   "source": [
    "#### Test"
   ]
  },
  {
   "cell_type": "code",
   "execution_count": 48,
   "metadata": {},
   "outputs": [
    {
     "name": "stdout",
     "output_type": "stream",
     "text": [
      "<class 'pandas.core.frame.DataFrame'>\n",
      "Int64Index: 2080 entries, 0 to 2355\n",
      "Data columns (total 11 columns):\n",
      " #   Column              Non-Null Count  Dtype         \n",
      "---  ------              --------------  -----         \n",
      " 0   tweet_id            2080 non-null   object        \n",
      " 1   timestamp           2080 non-null   datetime64[ns]\n",
      " 2   source              2080 non-null   object        \n",
      " 3   text                2080 non-null   object        \n",
      " 4   expanded_urls       2077 non-null   object        \n",
      " 5   rating_numerator    2080 non-null   float64       \n",
      " 6   rating_denominator  2080 non-null   int64         \n",
      " 7   name                2080 non-null   object        \n",
      " 8   dog breed           2080 non-null   category      \n",
      " 9   retweet_count       2073 non-null   float64       \n",
      " 10  favorite_count      2073 non-null   float64       \n",
      "dtypes: category(1), datetime64[ns](1), float64(3), int64(1), object(5)\n",
      "memory usage: 181.2+ KB\n"
     ]
    }
   ],
   "source": [
    "twitter_archive_df_clean.info()"
   ]
  },
  {
   "cell_type": "markdown",
   "metadata": {},
   "source": [
    "6. the rows in sources columns are 95% duplicated\n",
    "\n",
    "#### Define: delete this column\n",
    "\n",
    "#### Code "
   ]
  },
  {
   "cell_type": "code",
   "execution_count": 49,
   "metadata": {},
   "outputs": [],
   "source": [
    "twitter_archive_df_clean.drop(\"source\",axis=1,inplace=True)"
   ]
  },
  {
   "cell_type": "markdown",
   "metadata": {},
   "source": [
    "#### Test"
   ]
  },
  {
   "cell_type": "code",
   "execution_count": 50,
   "metadata": {},
   "outputs": [
    {
     "data": {
      "text/plain": [
       "Index(['tweet_id', 'timestamp', 'text', 'expanded_urls', 'rating_numerator',\n",
       "       'rating_denominator', 'name', 'dog breed', 'retweet_count',\n",
       "       'favorite_count'],\n",
       "      dtype='object')"
      ]
     },
     "execution_count": 50,
     "metadata": {},
     "output_type": "execute_result"
    }
   ],
   "source": [
    "twitter_archive_df_clean.columns"
   ]
  },
  {
   "cell_type": "markdown",
   "metadata": {},
   "source": [
    "7. many predictions contains 3 false in image_pred_df, which means those are useless prediction data.\n",
    "\n",
    "#### Define: find rows that have three false and drop them.\n",
    "\n",
    "#### Code"
   ]
  },
  {
   "cell_type": "code",
   "execution_count": 51,
   "metadata": {},
   "outputs": [],
   "source": [
    "false_predc = list(image_pred_df.query(\"p1_dog==False and p2_dog==False and p3_dog == False\").index)\n",
    "image_pred_df.drop(index=false_predc,inplace=True)\n"
   ]
  },
  {
   "cell_type": "markdown",
   "metadata": {},
   "source": [
    "#### Test"
   ]
  },
  {
   "cell_type": "code",
   "execution_count": 52,
   "metadata": {
    "scrolled": true
   },
   "outputs": [
    {
     "data": {
      "text/html": [
       "<div>\n",
       "<style scoped>\n",
       "    .dataframe tbody tr th:only-of-type {\n",
       "        vertical-align: middle;\n",
       "    }\n",
       "\n",
       "    .dataframe tbody tr th {\n",
       "        vertical-align: top;\n",
       "    }\n",
       "\n",
       "    .dataframe thead th {\n",
       "        text-align: right;\n",
       "    }\n",
       "</style>\n",
       "<table border=\"1\" class=\"dataframe\">\n",
       "  <thead>\n",
       "    <tr style=\"text-align: right;\">\n",
       "      <th></th>\n",
       "      <th>tweet_id</th>\n",
       "      <th>jpg_url</th>\n",
       "      <th>img_num</th>\n",
       "      <th>p1</th>\n",
       "      <th>p1_conf</th>\n",
       "      <th>p1_dog</th>\n",
       "      <th>p2</th>\n",
       "      <th>p2_conf</th>\n",
       "      <th>p2_dog</th>\n",
       "      <th>p3</th>\n",
       "      <th>p3_conf</th>\n",
       "      <th>p3_dog</th>\n",
       "    </tr>\n",
       "  </thead>\n",
       "  <tbody>\n",
       "  </tbody>\n",
       "</table>\n",
       "</div>"
      ],
      "text/plain": [
       "Empty DataFrame\n",
       "Columns: [tweet_id, jpg_url, img_num, p1, p1_conf, p1_dog, p2, p2_conf, p2_dog, p3, p3_conf, p3_dog]\n",
       "Index: []"
      ]
     },
     "execution_count": 52,
     "metadata": {},
     "output_type": "execute_result"
    }
   ],
   "source": [
    "image_pred_df.query(\"p1_dog==False and p2_dog==False and p3_dog == False\")"
   ]
  },
  {
   "cell_type": "markdown",
   "metadata": {},
   "source": [
    "8. missing data in name encoded as the string 'None'\n",
    "\n",
    "#### Define Replace all instances of the string 'None' with NaN.\n",
    "\n",
    "#### Code"
   ]
  },
  {
   "cell_type": "code",
   "execution_count": 53,
   "metadata": {},
   "outputs": [],
   "source": [
    "twitter_archive_df_clean.name = twitter_archive_df_clean.name.replace('None', np.nan)"
   ]
  },
  {
   "cell_type": "markdown",
   "metadata": {},
   "source": [
    "#### Test\n"
   ]
  },
  {
   "cell_type": "code",
   "execution_count": 54,
   "metadata": {},
   "outputs": [
    {
     "data": {
      "text/plain": [
       "0"
      ]
     },
     "execution_count": 54,
     "metadata": {},
     "output_type": "execute_result"
    }
   ],
   "source": [
    "twitter_archive_df_clean.name.loc[twitter_archive_df_clean.name == 'None'].sum()"
   ]
  },
  {
   "cell_type": "markdown",
   "metadata": {},
   "source": [
    "### Final cleaned dataset\n",
    "\n",
    "After the cleaning step I'm left with a single master dataframe: tweet_data_archived_clean. The last thing that I'll do is store it in an appropriately named dataframe and export it to the current working directory.\n",
    "\n"
   ]
  },
  {
   "cell_type": "code",
   "execution_count": 55,
   "metadata": {},
   "outputs": [],
   "source": [
    "twitter_archive_master = twitter_archive_df_clean.copy()\n",
    "\n",
    "out_file = 'twitter-archive-master.csv'\n",
    "twitter_archive_master.to_csv(out_file, index=False)"
   ]
  }
 ],
 "metadata": {
  "kernelspec": {
   "display_name": "Python 3",
   "language": "python",
   "name": "python3"
  },
  "language_info": {
   "codemirror_mode": {
    "name": "ipython",
    "version": 3
   },
   "file_extension": ".py",
   "mimetype": "text/x-python",
   "name": "python",
   "nbconvert_exporter": "python",
   "pygments_lexer": "ipython3",
   "version": "3.8.5"
  }
 },
 "nbformat": 4,
 "nbformat_minor": 4
}
